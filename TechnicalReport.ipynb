{
 "cells": [
  {
   "cell_type": "markdown",
   "metadata": {},
   "source": [
    "# Analyzing My Spotify Data"
   ]
  },
  {
   "cell_type": "markdown",
   "metadata": {},
   "source": [
    "Payton Burks  \n",
    "CPSC 222, Fall 2020  \n",
    "17 December 2020"
   ]
  },
  {
   "cell_type": "markdown",
   "metadata": {},
   "source": [
    "---"
   ]
  },
  {
   "cell_type": "markdown",
   "metadata": {},
   "source": [
    "## Introduction"
   ]
  },
  {
   "cell_type": "markdown",
   "metadata": {},
   "source": [
    "### Domain\n",
    "\n",
    "This project deals with music and (my) listening statistics. I have loved listening to music since I was a kid, so I thought analyzing my listening habits would be insightful. Though I have no intention of ever creating music, it has played an important part of my development and will likely continue to do so. Hopefully I am able to glean some insights into what I listen to on a particular day, what artists I like the most, and how different my music taste is apart from others."
   ]
  },
  {
   "cell_type": "markdown",
   "metadata": {},
   "source": [
    "### Dataset\n",
    "\n",
    "The raw data is imported as json files with 4 categories:\n",
    "* endTime = date and time the song finished (formatted 'year-month-day hour:minute')\n",
    "* artistName = artist\n",
    "* trackName = song\n",
    "* msPlayed = milliseconds played\n",
    "\n",
    "I will be appending...\n",
    "* day = day of the week\n",
    "* skipped? = if the song was skipped (listened to for$\\leq$30s)\n",
    "* top100artist? = if the artist was in my top 100 most played artists"
   ]
  },
  {
   "cell_type": "markdown",
   "metadata": {},
   "source": [
    "### Hypothesis Testing\n",
    "\n",
    "I will be testing the following hypotheses:\n",
    "* The average length of songs I listen to is shorter than the average length of hit songs worldwide \n",
    "* I listen to more music (per day, on average) on weekends than weekdays.\n",
    "* I skip songs by my top 100 artists more often than songs by those who aren't on my top 100 list"
   ]
  },
  {
   "cell_type": "markdown",
   "metadata": {},
   "source": [
    "### Stockholders\n",
    "\n",
    "Personally, I am a huge stakeholder in these results; the information is fascinating to me. Additionally, due to the fact I am creating a model to see what makes my skips happen more often, these results could be huge to artists in the music industry. If they can get information on which of their songs were skipped more often, they may be able to turn a higher profit on their next project (assuming these results are reproduced with different streaming data)."
   ]
  },
  {
   "cell_type": "markdown",
   "metadata": {},
   "source": [
    "### Classification\n",
    "\n",
    "I will be using the \"skipped?\" category as my classification element. I will be trying to see if I can classify whether or not I skipped a song based on the other characteristics (not including msPlayed, as that directly correlates to skipping the song)."
   ]
  },
  {
   "cell_type": "markdown",
   "metadata": {},
   "source": [
    "---"
   ]
  },
  {
   "cell_type": "markdown",
   "metadata": {},
   "source": [
    "## Data Analysis"
   ]
  },
  {
   "cell_type": "markdown",
   "metadata": {},
   "source": [
    "### Dataset Description\n",
    "\n",
    "As previously noted, the raw data comes in as json files. In order to more easily manipulate my data, I loaded each one into a DataFrame and then merged them into one gigantic DataFrame."
   ]
  },
  {
   "cell_type": "code",
   "execution_count": 17,
   "metadata": {},
   "outputs": [],
   "source": [
    "import json\n",
    "import pandas as pd\n",
    "import matplotlib.pyplot as plt\n",
    "\n",
    "import utils\n",
    "\n",
    "#load in data\n",
    "data0 = utils.load_data(\"StreamingHistoryJsonFiles/StreamingHistory0.json\")\n",
    "data1 = utils.load_data(\"StreamingHistoryJsonFiles/StreamingHistory1.json\")\n",
    "data2 = utils.load_data(\"StreamingHistoryJsonFiles/StreamingHistory2.json\")\n",
    "data3 = utils.load_data(\"StreamingHistoryJsonFiles/StreamingHistory3.json\")\n",
    "data4 = utils.load_data(\"StreamingHistoryJsonFiles/StreamingHistory4.json\")\n",
    "data5 = utils.load_data(\"StreamingHistoryJsonFiles/StreamingHistory5.json\")\n",
    "\n",
    "#join all data into spot_df\n",
    "spot_df = pd.concat([data0, data1, data2, data3, data4, data5], ignore_index=True)"
   ]
  },
  {
   "cell_type": "markdown",
   "metadata": {},
   "source": [
    "As a reminder, there are four initial attributes to the data *(endTime*, *artistName*, *artist*, *trackName*, *msPlayed*). In-depth descriptions can be found above."
   ]
  },
  {
   "cell_type": "markdown",
   "metadata": {},
   "source": [
    "### Data Preparation\n",
    "\n",
    "#### Data Cleaning\n",
    "\n",
    "The only issue I had with computationally with the data was the '$' character found in artists such as Joey Bada$$ and A$AP Rocky, among others. This was causing problems, so I replaced '$' with 'S'.\n",
    "\n",
    "Next, I had two tasks remaining. I had to replace \"Unknown Artist\" with \"Playboi Carti\" (Spotify was picking up my local files - which are all Playboi Carti song leaks - as \"Unknown Artist\") and remove the podcasts that I listened to. Finally, I could move the clean data to a csv file. The clean data can be viewed [here](https://raw.githubusercontent.com/paytonburks/SpotifyDataPayton/main/cleanspotifydata.csv)."
   ]
  },
  {
   "cell_type": "code",
   "execution_count": 18,
   "metadata": {},
   "outputs": [],
   "source": [
    "#clean data   \n",
    "utils.clean_spot_df(spot_df)\n",
    "utils.rm_pod(spot_df)\n",
    "\n",
    "spot_df = spot_df.reset_index(drop=True)\n",
    "\n",
    "#data to csv\n",
    "spot_df.to_csv(\"cleanspotifydata.csv\")"
   ]
  },
  {
   "cell_type": "markdown",
   "metadata": {},
   "source": [
    "#### Appending other data (and a little EDA)"
   ]
  },
  {
   "cell_type": "markdown",
   "metadata": {},
   "source": [
    "As part of the preparation, I would be appending three new attributes (*day, skipped?, top100artist?*). Again, more in-depth descriptions of these attributes are found above. In order to find my top 100 artists for the corresponding attribute, I would have to compute a new dataframe which was composed of two columns, artist and hoursListened.\n",
    " \n",
    "While preparing these attributes, I was also able to compute a few statistics and find out more information about the data. These are printed beneath some of the code that allowed me to create the new attributes."
   ]
  },
  {
   "cell_type": "markdown",
   "metadata": {},
   "source": [
    "##### *day*"
   ]
  },
  {
   "cell_type": "code",
   "execution_count": 19,
   "metadata": {},
   "outputs": [],
   "source": [
    "#get dates from data\n",
    "raw_dates = utils.get_date_list(spot_df)\n",
    "\n",
    "#combine dates with findDay\n",
    "day_of_week = []\n",
    "for item in raw_dates:\n",
    "    newEntry = utils.findDay(item)\n",
    "    day_of_week.append(newEntry)\n",
    "\n",
    "#append day_of_week to spot_df\n",
    "spot_df[\"day\"] = day_of_week"
   ]
  },
  {
   "cell_type": "markdown",
   "metadata": {},
   "source": [
    "##### *skipped?*"
   ]
  },
  {
   "cell_type": "code",
   "execution_count": 20,
   "metadata": {},
   "outputs": [
    {
     "name": "stdout",
     "output_type": "stream",
     "text": [
      "Number of songs skipped: 11940\n",
      "Percent of songs skipped: 21.01 %\n"
     ]
    }
   ],
   "source": [
    "#newvars\n",
    "skipped = []\n",
    "timeListen = spot_df[\"msPlayed\"].copy()\n",
    "numSkips = 0\n",
    "totSongs = 0\n",
    "\n",
    "#loop through data\n",
    "for item in timeListen:\n",
    "    secListened = item/1000\n",
    "    if secListened < 30:\n",
    "        skipped.append('y')\n",
    "        numSkips += 1\n",
    "        totSongs += 1\n",
    "    else:\n",
    "        skipped.append('n')\n",
    "        totSongs += 1\n",
    "        \n",
    "#append data\n",
    "spot_df[\"skipped?\"] = skipped\n",
    "\n",
    "print(\"Number of songs skipped:\", numSkips)\n",
    "print(\"Percent of songs skipped:\", round((numSkips/totSongs),4)*100, '%')"
   ]
  },
  {
   "cell_type": "markdown",
   "metadata": {},
   "source": [
    "##### *top100artist?*\n",
    "**Must first create new DataFrame, artist X hours listened*"
   ]
  },
  {
   "cell_type": "code",
   "execution_count": 21,
   "metadata": {},
   "outputs": [
    {
     "name": "stdout",
     "output_type": "stream",
     "text": [
      "Total hours spent listening: 2175\n",
      "Total days spent listening: 91\n"
     ]
    }
   ],
   "source": [
    "#new vars\n",
    "bigtotal = 0\n",
    "#vars for new DF\n",
    "totalHours_perArtist = []\n",
    "artist_perArtist = []\n",
    "#grouping by artist\n",
    "group_by_artist_df = spot_df.groupby(\"artistName\")\n",
    "\n",
    "for artist, group_df in group_by_artist_df:\n",
    "    msplayed_ser = group_df[\"msPlayed\"].copy()\n",
    "    totalms = msplayed_ser.sum()\n",
    "    totalhours = totalms/1000/60/60\n",
    "    bigtotal += totalhours\n",
    "    \n",
    "    #data for new df for hours x artist\n",
    "    totalHours_perArtist.append(round(totalhours, 2))\n",
    "    artist_perArtist.append(artist)\n",
    "    \n",
    "artist_x_hours_df = utils.create_artist_x_hours_df(artist_perArtist, totalHours_perArtist)\n",
    "\n",
    "print(\"Total hours spent listening:\", round(bigtotal))\n",
    "print(\"Total days spent listening:\", round(bigtotal/24))"
   ]
  },
  {
   "cell_type": "markdown",
   "metadata": {},
   "source": [
    "##### Actually creating *top100artist?* attribute"
   ]
  },
  {
   "cell_type": "code",
   "execution_count": 22,
   "metadata": {},
   "outputs": [],
   "source": [
    "#new vars\n",
    "top100YorN = []\n",
    "artist_data = spot_df[\"artistName\"].copy()\n",
    "artist_data = artist_data.to_list()\n",
    "top100 = artist_x_hours_df.iloc[0:101][\"Artist\"].copy()\n",
    "\n",
    "#loop through data\n",
    "for artist in artist_data:\n",
    "    artistIsIn = False\n",
    "    for item in top100:\n",
    "        if item == artist:\n",
    "            artistIsIn = True\n",
    "            break\n",
    "    if artistIsIn == True:\n",
    "        top100YorN.append('y')\n",
    "    else:\n",
    "        top100YorN.append('n')\n",
    "#append        \n",
    "spot_df[\"top100Artist?\"] = top100YorN"
   ]
  },
  {
   "cell_type": "markdown",
   "metadata": {},
   "source": [
    "##### Convert new, fuller DataFrame to a new csv"
   ]
  },
  {
   "cell_type": "code",
   "execution_count": 23,
   "metadata": {},
   "outputs": [],
   "source": [
    "spot_df.to_csv('finalspotifydata.csv')"
   ]
  },
  {
   "cell_type": "markdown",
   "metadata": {},
   "source": [
    "The full DataFrame can be viewed [here](https://raw.githubusercontent.com/paytonburks/SpotifyDataPayton/main/finalspotifydata.csv)."
   ]
  },
  {
   "cell_type": "markdown",
   "metadata": {},
   "source": [
    "### Exploratory Data Analysis"
   ]
  },
  {
   "cell_type": "markdown",
   "metadata": {},
   "source": [
    "#### Data Visualization\n",
    "\n",
    "I will be visualizing...\n",
    "* An interactive list of all unique artists I listened to\n",
    "* Top 100 graph of artists x hours listened (grouped by 10s)\n",
    "* The percentage of hours I spent listening to my top 100 artists\n",
    "* Graph displaying average hours spent per day listening to music"
   ]
  },
  {
   "cell_type": "markdown",
   "metadata": {},
   "source": [
    "#### Interactive list of all artists"
   ]
  },
  {
   "cell_type": "code",
   "execution_count": 26,
   "metadata": {},
   "outputs": [
    {
     "name": "stdout",
     "output_type": "stream",
     "text": [
      "Payton has listened to 1660 unique artists over the past year.\n",
      "Search for an artist and receive back the number of hours Payton listened:\n"
     ]
    },
    {
     "name": "stdin",
     "output_type": "stream",
     "text": [
      " slowthai\n"
     ]
    },
    {
     "name": "stdout",
     "output_type": "stream",
     "text": [
      "\n",
      "Payton has listened to a total of 21.93 hours of slowthai\n"
     ]
    }
   ],
   "source": [
    "#get all names of artists\n",
    "artist_name_list = []\n",
    "\n",
    "#forming list\n",
    "for artist, group_df in group_by_artist_df:\n",
    "    artist_in_list = False\n",
    "    for i in range(len(artist_name_list)):\n",
    "        if(artist == artist_name_list[i]):\n",
    "            artist_in_list == True\n",
    "            \n",
    "    if artist_in_list == False:\n",
    "        artist_name_list.append(artist)\n",
    "\n",
    "#write list to .txt file\n",
    "text_file = open(\"ArtistList.txt\", 'w')\n",
    "for i in range(len(artist_name_list)):\n",
    "    artist = str(artist_name_list[i])\n",
    "    if artist == 'Yunggoth✰':\n",
    "        artist = 'Yunggoth'\n",
    "    if artist == \"μ's\":\n",
    "        artist = \"u's\"\n",
    "    text_file.write(artist + \"\\n\")\n",
    "text_file.close()\n",
    "\n",
    "#interactive portion\n",
    "print(\"Payton has listened to\", len(artist_name_list), \"unique artists over the past year.\")\n",
    "print(\"Search for an artist and receive back the number of hours Payton listened:\")\n",
    "find_artist = input()\n",
    "print()\n",
    "\n",
    "i=0\n",
    "while i in range(len(artist_perArtist)):\n",
    "    if artist_perArtist[i] == find_artist:\n",
    "        print(\"Payton has listened to a total of\", totalHours_perArtist[i],\"hours of\", find_artist)\n",
    "        break\n",
    "    i+=1\n",
    "    if i == 1660:\n",
    "        print(\"Payton has not listened to\", find_artist)       "
   ]
  },
  {
   "cell_type": "markdown",
   "metadata": {},
   "source": [
    "#### Top 100 Artists Graph\n",
    "\n",
    "I will only be displaying the top 10 below. The other graphs can be viewed in the [Figures](www.clubpenguin.com) folder."
   ]
  },
  {
   "cell_type": "code",
   "execution_count": 27,
   "metadata": {},
   "outputs": [
    {
     "data": {
      "image/png": "[encoded data removed]",
      "text/plain": [
       "<Figure size 1080x720 with 1 Axes>"
      ]
     },
     "metadata": {
      "needs_background": "light"
     },
     "output_type": "display_data"
    }
   ],
   "source": [
    "#artists 1-100\n",
    "top_10_artists = artist_x_hours_df.iloc[0:11]\n",
    "through_20_artists = artist_x_hours_df.iloc[11:21].reset_index()\n",
    "through_30_artists = artist_x_hours_df.iloc[21:31].reset_index()\n",
    "through_40_artists = artist_x_hours_df.iloc[31:41].reset_index()\n",
    "through_50_artists = artist_x_hours_df.iloc[41:51].reset_index()\n",
    "through_60_artists = artist_x_hours_df.iloc[51:61].reset_index()\n",
    "through_70_artists = artist_x_hours_df.iloc[61:71].reset_index()\n",
    "through_80_artists = artist_x_hours_df.iloc[71:81].reset_index()\n",
    "through_90_artists = artist_x_hours_df.iloc[81:91].reset_index()\n",
    "through_100_artists = artist_x_hours_df.iloc[91:101].reset_index()\n",
    "\n",
    "#plots\n",
    "utils.artist_bar_chart(top_10_artists, \"1-10\", \"Top 10 Artists\")\n",
    "utils.artist_bar_chart(through_20_artists, \"11-20\", \"Artist Rankings: 11-20\")\n",
    "utils.artist_bar_chart(through_30_artists, \"21-30\", \"Artist Rankings: 21-30\")\n",
    "utils.artist_bar_chart(through_40_artists, \"31-40\", \"Artist Rankings: 31-40\")\n",
    "utils.artist_bar_chart(through_50_artists, \"41-50\", \"Artist Rankings: 41-50\")\n",
    "utils.artist_bar_chart(through_60_artists, \"51-60\", \"Artist Rankings: 51-60\")\n",
    "utils.artist_bar_chart(through_70_artists, \"61-70\", \"Artist Rankings: 61-70\")\n",
    "utils.artist_bar_chart(through_80_artists, \"71-80\", \"Artist Rankings: 71-80\")\n",
    "utils.artist_bar_chart(through_90_artists, \"81-90\", \"Artist Rankings: 81-90\")\n",
    "utils.artist_bar_chart(through_100_artists, \"91-100\", \"Artist Rankings: 91-100\")"
   ]
  },
  {
   "cell_type": "markdown",
   "metadata": {},
   "source": [
    "Carti, Uzi, and Peggy dominated my listening time."
   ]
  },
  {
   "cell_type": "markdown",
   "metadata": {},
   "source": [
    "#### Percentage of Listening: Top 100 or not?"
   ]
  },
  {
   "cell_type": "code",
   "execution_count": 28,
   "metadata": {},
   "outputs": [
    {
     "data": {
      "image/png": "[encoded data removed]",
      "text/plain": [
       "<Figure size 1080x720 with 1 Axes>"
      ]
     },
     "metadata": {},
     "output_type": "display_data"
    }
   ],
   "source": [
    "msPlayed_top100 = 0\n",
    "msPlayed_non100 = 0\n",
    "msPlayedList = timeListen.to_list()\n",
    "\n",
    "i=0\n",
    "while i in range(len(top100YorN)):\n",
    "    if top100YorN[i] == 'y':\n",
    "        msPlayed_top100 += msPlayedList[i]\n",
    "    else:\n",
    "        msPlayed_non100 += msPlayedList[i]\n",
    "    i+=1\n",
    "\n",
    "plt.figure(figsize=(15,10))\n",
    "x = [\"Top 100 Artists\", \"Other\"]\n",
    "y = [msPlayed_top100/(msPlayed_top100+msPlayed_non100), msPlayed_non100/(msPlayed_top100+msPlayed_non100)]\n",
    "plt.pie(y, labels=x, autopct=\"%1.2f%%\", colors=['green', 'yellow'], shadow=True, explode= (0, 0.1))\n",
    "plt.title(\"Percentage of Listening Time\")\n",
    "plt.savefig(\"Figures/percentageofmusic.png\")\n",
    "plt.legend()\n",
    "plt.show()"
   ]
  },
  {
   "cell_type": "markdown",
   "metadata": {},
   "source": [
    "A majority of my listening was spent listening to my Top 100 artists. Nearly 72% of my listening time was spend listening to 6% of my library of artists. Perhaps I should vary it up a little bit."
   ]
  },
  {
   "cell_type": "markdown",
   "metadata": {},
   "source": [
    "#### Average Listening Hours for Day of Week"
   ]
  },
  {
   "cell_type": "code",
   "execution_count": 31,
   "metadata": {},
   "outputs": [
    {
     "data": {
      "image/png": "[encoded data removed]",
      "text/plain": [
       "<Figure size 1080x720 with 1 Axes>"
      ]
     },
     "metadata": {
      "needs_background": "light"
     },
     "output_type": "display_data"
    }
   ],
   "source": [
    "import numpy as np\n",
    "\n",
    "group_by_weekday_df = spot_df.groupby(\"day\", sort=False)\n",
    "plt.figure(figsize=(15,10))\n",
    "for group_name, group_df in group_by_weekday_df:\n",
    "    msplayed_ser = group_df[\"msPlayed\"].copy()\n",
    "    totalms = msplayed_ser.sum()\n",
    "    total_hours = totalms/1000/60/60/52\n",
    "    plt.bar(group_name, total_hours,color=\"red\")\n",
    "\n",
    "plt.xticks(rotation=45, horizontalalignment='right')\n",
    "plt.title(\"Average Listening Hours x Day of Week\")\n",
    "plt.ylabel(\"Hours\")\n",
    "plt.savefig(\"Figures/averagelistening_per_dayofweek.png\")\n",
    "plt.show()"
   ]
  },
  {
   "cell_type": "markdown",
   "metadata": {},
   "source": [
    "My average listening time seemed to hober between 6-7 hours, but dropped dramatically over the weekend, which was unexpected. It seems I listen to more music when I have classes; it is possible this is due to an increase in online activity with the pandemic, drawing me toward spotify."
   ]
  },
  {
   "cell_type": "markdown",
   "metadata": {},
   "source": [
    "---"
   ]
  },
  {
   "cell_type": "markdown",
   "metadata": {},
   "source": [
    "## Classification Results"
   ]
  },
  {
   "cell_type": "markdown",
   "metadata": {},
   "source": []
  },
  {
   "cell_type": "markdown",
   "metadata": {},
   "source": [
    "## Conclusion"
   ]
  },
  {
   "cell_type": "markdown",
   "metadata": {},
   "source": []
  }
 ],
 "metadata": {
  "kernelspec": {
   "display_name": "Python 3",
   "language": "python",
   "name": "python3"
  },
  "language_info": {
   "codemirror_mode": {
    "name": "ipython",
    "version": 3
   },
   "file_extension": ".py",
   "mimetype": "text/x-python",
   "name": "python",
   "nbconvert_exporter": "python",
   "pygments_lexer": "ipython3",
   "version": "3.8.3"
  }
 },
 "nbformat": 4,
 "nbformat_minor": 4
}
